{
  "nbformat": 4,
  "nbformat_minor": 0,
  "metadata": {
    "colab": {
      "name": "파이썬100제_50제.ipynb",
      "provenance": [],
      "authorship_tag": "ABX9TyOPAcsKOgyGi0TTJNxhw/xx",
      "include_colab_link": true
    },
    "kernelspec": {
      "name": "python3",
      "display_name": "Python 3"
    },
    "language_info": {
      "name": "python"
    }
  },
  "cells": [
    {
      "cell_type": "markdown",
      "metadata": {
        "id": "view-in-github",
        "colab_type": "text"
      },
      "source": [
        "<a href=\"https://colab.research.google.com/github/RyuHyunJung/PYTHON/blob/main/%ED%8C%8C%EC%9D%B4%EC%8D%AC100%EC%A0%9C_50%EC%A0%9C.ipynb\" target=\"_parent\"><img src=\"https://colab.research.google.com/assets/colab-badge.svg\" alt=\"Open In Colab\"/></a>"
      ]
    },
    {
      "cell_type": "markdown",
      "metadata": {
        "id": "eMJ-HduMokqp"
      },
      "source": [
        "# 1번"
      ]
    },
    {
      "cell_type": "code",
      "metadata": {
        "colab": {
          "base_uri": "https://localhost:8080/"
        },
        "id": "KJuGu9wrms-k",
        "outputId": "5aac7157-3149-4e7a-d7e0-cd3dfbbb51ac"
      },
      "source": [
        "nums = [100, 200, 300, 400, 500]\n",
        "#nums = nums[:3]\n",
        "#print(dir(nums))\n",
        "nums.pop()\n",
        "nums.pop()\n",
        "nums"
      ],
      "execution_count": 7,
      "outputs": [
        {
          "output_type": "execute_result",
          "data": {
            "text/plain": [
              "[100, 200, 300]"
            ]
          },
          "metadata": {
            "tags": []
          },
          "execution_count": 7
        }
      ]
    },
    {
      "cell_type": "markdown",
      "metadata": {
        "id": "-ONgT8f4oiOX"
      },
      "source": [
        "# 2번"
      ]
    },
    {
      "cell_type": "code",
      "metadata": {
        "colab": {
          "base_uri": "https://localhost:8080/"
        },
        "id": "DniwdaV1oNZk",
        "outputId": "c8ed42d2-138a-449e-d7a5-b624e1e2b318"
      },
      "source": [
        "l = [200, 100, 300]\n",
        "l.insert(2, 10000)\n",
        "print(l)"
      ],
      "execution_count": 8,
      "outputs": [
        {
          "output_type": "stream",
          "text": [
            "[200, 100, 10000, 300]\n"
          ],
          "name": "stdout"
        }
      ]
    },
    {
      "cell_type": "markdown",
      "metadata": {
        "id": "ojyKH0LFo8vO"
      },
      "source": [
        "# 3번"
      ]
    },
    {
      "cell_type": "code",
      "metadata": {
        "colab": {
          "base_uri": "https://localhost:8080/"
        },
        "id": "qSccJg5ko8HQ",
        "outputId": "2c9698ec-47d3-454e-ee38-7a39cf53c828"
      },
      "source": [
        "l = [100, 200, 300]\n",
        "print(type(l))\n",
        "print(dir(l))"
      ],
      "execution_count": 10,
      "outputs": [
        {
          "output_type": "stream",
          "text": [
            "<class 'list'>\n",
            "['__add__', '__class__', '__contains__', '__delattr__', '__delitem__', '__dir__', '__doc__', '__eq__', '__format__', '__ge__', '__getattribute__', '__getitem__', '__gt__', '__hash__', '__iadd__', '__imul__', '__init__', '__init_subclass__', '__iter__', '__le__', '__len__', '__lt__', '__mul__', '__ne__', '__new__', '__reduce__', '__reduce_ex__', '__repr__', '__reversed__', '__rmul__', '__setattr__', '__setitem__', '__sizeof__', '__str__', '__subclasshook__', 'append', 'clear', 'copy', 'count', 'extend', 'index', 'insert', 'pop', 'remove', 'reverse', 'sort']\n"
          ],
          "name": "stdout"
        }
      ]
    },
    {
      "cell_type": "markdown",
      "metadata": {
        "id": "5jGRsFtfpbaL"
      },
      "source": [
        "# 4번"
      ]
    },
    {
      "cell_type": "code",
      "metadata": {
        "colab": {
          "base_uri": "https://localhost:8080/"
        },
        "id": "gkgwid1OpZBH",
        "outputId": "94bbe720-fe95-4067-b344-38f989a96ffb"
      },
      "source": [
        "a = '''hello world'''\n",
        "print(type(a))"
      ],
      "execution_count": 11,
      "outputs": [
        {
          "output_type": "stream",
          "text": [
            "<class 'str'>\n"
          ],
          "name": "stdout"
        }
      ]
    },
    {
      "cell_type": "code",
      "metadata": {
        "colab": {
          "base_uri": "https://localhost:8080/",
          "height": 36
        },
        "id": "UcUVrUGqqaOj",
        "outputId": "512b8fdc-7851-4587-93f6-40dfe062be88"
      },
      "source": [
        "a"
      ],
      "execution_count": 12,
      "outputs": [
        {
          "output_type": "execute_result",
          "data": {
            "application/vnd.google.colaboratory.intrinsic+json": {
              "type": "string"
            },
            "text/plain": [
              "'hello world'"
            ]
          },
          "metadata": {
            "tags": []
          },
          "execution_count": 12
        }
      ]
    },
    {
      "cell_type": "markdown",
      "metadata": {
        "id": "05S2rVwPplJR"
      },
      "source": [
        "# 5번"
      ]
    },
    {
      "cell_type": "code",
      "metadata": {
        "colab": {
          "base_uri": "https://localhost:8080/"
        },
        "id": "1YEw1zHwpZiQ",
        "outputId": "a7c1fe29-70ee-4512-d69a-252aaec01fae"
      },
      "source": [
        "a = 10\n",
        "b = 2\n",
        "for i in range(1, 5, 2):\n",
        "    a += i\n",
        "print(a + b)    \n",
        "    \n"
      ],
      "execution_count": 13,
      "outputs": [
        {
          "output_type": "stream",
          "text": [
            "16\n"
          ],
          "name": "stdout"
        }
      ]
    },
    {
      "cell_type": "markdown",
      "metadata": {
        "id": "_CqCtqAaprS8"
      },
      "source": [
        "# 6번"
      ]
    },
    {
      "cell_type": "code",
      "metadata": {
        "colab": {
          "base_uri": "https://localhost:8080/"
        },
        "id": "efCqKit8phs2",
        "outputId": "6f74c05b-ff17-4848-eba2-55a4427fa5d5"
      },
      "source": [
        "print(bool(\" \"))\n",
        "print(bool(\"\"))\n",
        "print(bool([\"\", \"\"]))\n",
        "print(bool([]))\n",
        "print(bool(None))"
      ],
      "execution_count": 14,
      "outputs": [
        {
          "output_type": "stream",
          "text": [
            "True\n",
            "False\n",
            "True\n",
            "False\n",
            "False\n"
          ],
          "name": "stdout"
        }
      ]
    },
    {
      "cell_type": "markdown",
      "metadata": {
        "id": "skBk8MpFpw--"
      },
      "source": [
        "# 7번"
      ]
    },
    {
      "cell_type": "code",
      "metadata": {
        "colab": {
          "base_uri": "https://localhost:8080/"
        },
        "id": "EHFymV6rpwD2",
        "outputId": "b01c71f0-b11e-4f53-88a9-4ed07c05b998"
      },
      "source": [
        "한글 = 100\n",
        "한글"
      ],
      "execution_count": 15,
      "outputs": [
        {
          "output_type": "execute_result",
          "data": {
            "text/plain": [
              "100"
            ]
          },
          "metadata": {
            "tags": []
          },
          "execution_count": 15
        }
      ]
    },
    {
      "cell_type": "code",
      "metadata": {
        "id": "GslXtuHQrurN"
      },
      "source": [
        "beautiful_is_better_than_ugly = 100\n",
        "beautifulIsBetterThanUgly = 100"
      ],
      "execution_count": 17,
      "outputs": []
    },
    {
      "cell_type": "markdown",
      "metadata": {
        "id": "cfu0Y308vfWM"
      },
      "source": [
        "# 8번"
      ]
    },
    {
      "cell_type": "code",
      "metadata": {
        "colab": {
          "base_uri": "https://localhost:8080/"
        },
        "id": "qTlHER-ivb6B",
        "outputId": "4cc5c13d-ae7c-4e4c-9ab0-d08c94b80e98"
      },
      "source": [
        "d = {'height':180, 'weight':78, 'weight':84, 'temperature':36, 'eyesight':1}\n",
        "print(d['weight'])"
      ],
      "execution_count": 26,
      "outputs": [
        {
          "output_type": "stream",
          "text": [
            "84\n"
          ],
          "name": "stdout"
        }
      ]
    },
    {
      "cell_type": "code",
      "metadata": {
        "colab": {
          "base_uri": "https://localhost:8080/"
        },
        "id": "LEsWEjSHwysK",
        "outputId": "fbfee004-d5fc-4f67-b3c9-8380ea9e48b6"
      },
      "source": [
        "print(d)"
      ],
      "execution_count": 27,
      "outputs": [
        {
          "output_type": "stream",
          "text": [
            "{'height': 180, 'weight': 84, 'temperature': 36, 'eyesight': 1}\n"
          ],
          "name": "stdout"
        }
      ]
    },
    {
      "cell_type": "code",
      "metadata": {
        "colab": {
          "base_uri": "https://localhost:8080/"
        },
        "id": "ld7uyL46w32O",
        "outputId": "ea87112a-cd31-408e-ed87-07a6fe1e9036"
      },
      "source": [
        "d"
      ],
      "execution_count": 28,
      "outputs": [
        {
          "output_type": "execute_result",
          "data": {
            "text/plain": [
              "{'eyesight': 1, 'height': 180, 'temperature': 36, 'weight': 84}"
            ]
          },
          "metadata": {
            "tags": []
          },
          "execution_count": 28
        }
      ]
    },
    {
      "cell_type": "code",
      "metadata": {
        "colab": {
          "base_uri": "https://localhost:8080/"
        },
        "id": "aCVzuk8tx_Uf",
        "outputId": "72999015-9a88-495c-fc0b-c8689d9d8375"
      },
      "source": [
        "!python -V"
      ],
      "execution_count": 29,
      "outputs": [
        {
          "output_type": "stream",
          "text": [
            "Python 3.7.10\n"
          ],
          "name": "stdout"
        }
      ]
    },
    {
      "cell_type": "code",
      "metadata": {
        "colab": {
          "base_uri": "https://localhost:8080/"
        },
        "id": "FMqaAfGiyKKr",
        "outputId": "cf0f9dba-c7d8-4eef-94f2-5e6a11c1d13b"
      },
      "source": [
        "d['weight'] = 1000\n",
        "print(d)"
      ],
      "execution_count": 30,
      "outputs": [
        {
          "output_type": "stream",
          "text": [
            "{'height': 180, 'weight': 1000, 'temperature': 36, 'eyesight': 1}\n"
          ],
          "name": "stdout"
        }
      ]
    },
    {
      "cell_type": "code",
      "metadata": {
        "colab": {
          "base_uri": "https://localhost:8080/"
        },
        "id": "Dy85aPaJyhMe",
        "outputId": "475d171b-6bc5-458b-f5b6-d42dec3e22da"
      },
      "source": [
        "d['aa'] = 1000\n",
        "print(d)"
      ],
      "execution_count": 33,
      "outputs": [
        {
          "output_type": "stream",
          "text": [
            "{'height': 180, 'weight': 1000, 'temperature': 36, 'eyesight': 1, 'aa': 1000}\n"
          ],
          "name": "stdout"
        }
      ]
    },
    {
      "cell_type": "code",
      "metadata": {
        "colab": {
          "base_uri": "https://localhost:8080/"
        },
        "id": "gjzAldMMyuPQ",
        "outputId": "b1f452ae-e0b9-4a6d-faa6-96d5520220b6"
      },
      "source": [
        "d['bb'] = 1000\n",
        "print(d)"
      ],
      "execution_count": 34,
      "outputs": [
        {
          "output_type": "stream",
          "text": [
            "{'height': 180, 'weight': 1000, 'temperature': 36, 'eyesight': 1, 'aa': 1000, 'bb': 1000}\n"
          ],
          "name": "stdout"
        }
      ]
    },
    {
      "cell_type": "code",
      "metadata": {
        "colab": {
          "base_uri": "https://localhost:8080/"
        },
        "id": "62DnKl8kyzYw",
        "outputId": "09a11d01-b1bd-45f7-e8fe-6569ffd72c0b"
      },
      "source": [
        "for i in d:\n",
        "    print(i)"
      ],
      "execution_count": 35,
      "outputs": [
        {
          "output_type": "stream",
          "text": [
            "height\n",
            "weight\n",
            "temperature\n",
            "eyesight\n",
            "aa\n",
            "bb\n"
          ],
          "name": "stdout"
        }
      ]
    },
    {
      "cell_type": "markdown",
      "metadata": {
        "id": "0ZhC85fbv6X3"
      },
      "source": [
        "# 9번"
      ]
    },
    {
      "cell_type": "code",
      "metadata": {
        "colab": {
          "base_uri": "https://localhost:8080/"
        },
        "id": "_FyjaHjEv6G-",
        "outputId": "d9eee15f-3c5e-4793-d78a-387af3a835dd"
      },
      "source": [
        "year = '2019'\n",
        "month = '04'\n",
        "day = '26'\n",
        "hour = '11'\n",
        "minute = '34'\n",
        "second = '27'\n",
        "\n",
        "print(year, month, day)\n",
        "print(hour, minute, second)"
      ],
      "execution_count": 37,
      "outputs": [
        {
          "output_type": "stream",
          "text": [
            "2019 04 26\n",
            "11 34 27\n"
          ],
          "name": "stdout"
        }
      ]
    },
    {
      "cell_type": "code",
      "metadata": {
        "colab": {
          "base_uri": "https://localhost:8080/"
        },
        "id": "k8jAFH3Jzqu2",
        "outputId": "c4a148d4-28bd-4c51-db7e-07338dd80d29"
      },
      "source": [
        "print(year, month, day, end=' ', sep='/')\n",
        "print(hour, minute, second, sep=':')"
      ],
      "execution_count": 39,
      "outputs": [
        {
          "output_type": "stream",
          "text": [
            "2019/04/26 11:34:27\n"
          ],
          "name": "stdout"
        }
      ]
    },
    {
      "cell_type": "markdown",
      "metadata": {
        "id": "2Fj74Hfsv-xs"
      },
      "source": [
        "# 10번"
      ]
    },
    {
      "cell_type": "code",
      "metadata": {
        "id": "IKDhT-anv-pC"
      },
      "source": [
        "    *\n",
        "   ***\n",
        "  *****\n",
        " *******\n",
        "*********"
      ],
      "execution_count": null,
      "outputs": []
    },
    {
      "cell_type": "code",
      "metadata": {
        "colab": {
          "base_uri": "https://localhost:8080/"
        },
        "id": "GWXaDq_80gP3",
        "outputId": "089d05d5-f45a-4d29-e492-8645f4e6b51e"
      },
      "source": [
        "'''\n",
        "4    1\n",
        "3    3\n",
        "2    5\n",
        "1    7\n",
        "0    9\n",
        "n-i  2i-1\n",
        "'''\n",
        "\n",
        "n = 5\n",
        "for i in range(1, n + 1):\n",
        "    #print(n-i, 2*i-1)\n",
        "    print((' ' * (n-i)) + ('*' * (2*i-1)))"
      ],
      "execution_count": 42,
      "outputs": [
        {
          "output_type": "stream",
          "text": [
            "    *\n",
            "   ***\n",
            "  *****\n",
            " *******\n",
            "*********\n"
          ],
          "name": "stdout"
        }
      ]
    }
  ]
}